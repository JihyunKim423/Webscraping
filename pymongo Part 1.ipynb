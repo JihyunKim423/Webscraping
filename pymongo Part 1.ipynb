{
 "cells": [
  {
   "cell_type": "code",
   "execution_count": 5,
   "metadata": {},
   "outputs": [
    {
     "ename": "SyntaxError",
     "evalue": "invalid syntax (2230801363.py, line 2)",
     "output_type": "error",
     "traceback": [
      "\u001b[0;36m  Cell \u001b[0;32mIn[5], line 2\u001b[0;36m\u001b[0m\n\u001b[0;31m    conda install pymongo\u001b[0m\n\u001b[0m          ^\u001b[0m\n\u001b[0;31mSyntaxError\u001b[0m\u001b[0;31m:\u001b[0m invalid syntax\n"
     ]
    }
   ],
   "source": [
    "# Install Pymongo (Just once)\n",
    "#conda install pymongo"
   ]
  },
  {
   "cell_type": "code",
   "execution_count": 1,
   "metadata": {},
   "outputs": [],
   "source": [
    "from pymongo import MongoClient\n",
    "\n",
    "from bson import decode_all\n",
    "from bson.json_util import dumps"
   ]
  },
  {
   "cell_type": "markdown",
   "metadata": {},
   "source": [
    "1. Decode .bson file and create as .json file"
   ]
  },
  {
   "cell_type": "code",
   "execution_count": 2,
   "metadata": {},
   "outputs": [],
   "source": [
    "with open('samples_pokemon/samples_pokemon.bson', 'rb') as f:\n",
    "    data = decode_all(f.read())\n",
    "\n",
    "with open('samples_pokemon/samples_pokemon.json', 'w') as outfile:\n",
    "    outfile.write(dumps(data, indent=2))"
   ]
  },
  {
   "cell_type": "markdown",
   "metadata": {},
   "source": [
    "2. Upload newly created .json file on MondoDB Compass"
   ]
  },
  {
   "cell_type": "markdown",
   "metadata": {},
   "source": [
    "3. Retrieve DB and collection"
   ]
  },
  {
   "cell_type": "code",
   "execution_count": 4,
   "metadata": {},
   "outputs": [
    {
     "name": "stdout",
     "output_type": "stream",
     "text": [
      "['admin', 'config', 'local', 'pokemon', 'pokemon2', 'qs_msba', 'yocket']\n"
     ]
    }
   ],
   "source": [
    "# Connect with DB, with MongoClient\n",
    "client = MongoClient(host='localhost', port=27017)\n",
    "print(client.list_database_names())"
   ]
  },
  {
   "cell_type": "code",
   "execution_count": 5,
   "metadata": {},
   "outputs": [
    {
     "name": "stdout",
     "output_type": "stream",
     "text": [
      "Database(MongoClient(host=['localhost:27017'], document_class=dict, tz_aware=False, connect=True), 'pokemon')\n"
     ]
    }
   ],
   "source": [
    "# Retrieve pockemon DB\n",
    "db = client.pokemon\n",
    "print(db)"
   ]
  },
  {
   "cell_type": "code",
   "execution_count": 6,
   "metadata": {},
   "outputs": [
    {
     "name": "stdout",
     "output_type": "stream",
     "text": [
      "Collection(Database(MongoClient(host=['localhost:27017'], document_class=dict, tz_aware=False, connect=True), 'pokemon'), 'samples_pokemon')\n"
     ]
    }
   ],
   "source": [
    "# Retrieve samples_pokemon collection\n",
    "samples_pokemon = db.samples_pokemon\n",
    "print(samples_pokemon)"
   ]
  },
  {
   "cell_type": "code",
   "execution_count": 7,
   "metadata": {},
   "outputs": [
    {
     "name": "stdout",
     "output_type": "stream",
     "text": [
      "{'_id': ObjectId('58f56170ee9d4bd5e610d644'),\n",
      " 'avg_spawns': 69,\n",
      " 'candy': 'Bulbasaur Candy',\n",
      " 'candy_count': 25,\n",
      " 'egg': '2 km',\n",
      " 'height': '0.71 m',\n",
      " 'id': 1,\n",
      " 'img': 'http://www.serebii.net/pokemongo/pokemon/001.png',\n",
      " 'multipliers': [1.58],\n",
      " 'name': 'Bulbasaur',\n",
      " 'next_evolution': [{'name': 'Ivysaur', 'num': '002'},\n",
      "                    {'name': 'Venusaur', 'num': '003'}],\n",
      " 'num': '001',\n",
      " 'spawn_chance': 0.69,\n",
      " 'spawn_time': '20:00',\n",
      " 'type': ['Grass', 'Poison'],\n",
      " 'weaknesses': ['Fire', 'Ice', 'Flying', 'Psychic'],\n",
      " 'weight': '6.9 kg'}\n"
     ]
    }
   ],
   "source": [
    "# Retrive a document\n",
    "import pprint\n",
    "pprint.pprint(samples_pokemon.find_one())"
   ]
  },
  {
   "cell_type": "markdown",
   "metadata": {},
   "source": [
    "4. Write query working same as \"db.samples_pokemon.find({candy_count:{$gt:100}})\" in MongoDB.\n",
    "\n",
    "- It should give only \"Magikarp\" as result"
   ]
  },
  {
   "cell_type": "code",
   "execution_count": 8,
   "metadata": {},
   "outputs": [
    {
     "name": "stdout",
     "output_type": "stream",
     "text": [
      "{'_id': ObjectId('58f56171ee9d4bd5e610d6c4'), 'id': 129, 'num': '129', 'name': 'Magikarp', 'img': 'http://www.serebii.net/pokemongo/pokemon/129.png', 'type': ['Water'], 'height': '0.89 m', 'weight': '10.0 kg', 'candy': 'Magikarp Candy', 'candy_count': 400, 'egg': '2 km', 'spawn_chance': 4.78, 'avg_spawns': 478, 'spawn_time': '14:26', 'multipliers': [10.1, 11.8], 'weaknesses': ['Electric', 'Grass'], 'next_evolution': [{'num': '130', 'name': 'Gyarados'}]}\n"
     ]
    }
   ],
   "source": [
    "results = samples_pokemon.find({\"candy_count\": {\"$gt\": 100}}) # Find pokemons with candy count greater than 100\n",
    "\n",
    "# Print out the results\n",
    "for result in results:\n",
    "    print(result)"
   ]
  }
 ],
 "metadata": {
  "kernelspec": {
   "display_name": "base",
   "language": "python",
   "name": "python3"
  },
  "language_info": {
   "codemirror_mode": {
    "name": "ipython",
    "version": 3
   },
   "file_extension": ".py",
   "mimetype": "text/x-python",
   "name": "python",
   "nbconvert_exporter": "python",
   "pygments_lexer": "ipython3",
   "version": "3.10.9"
  }
 },
 "nbformat": 4,
 "nbformat_minor": 2
}
