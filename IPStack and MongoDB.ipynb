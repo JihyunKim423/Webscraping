{
 "cells": [
  {
   "cell_type": "markdown",
   "metadata": {},
   "source": [
    "#### BAX 422 Data Design & Representation - Individual Project 2\n",
    "#### Section 1 Ji Hyun Kim"
   ]
  },
  {
   "cell_type": "markdown",
   "metadata": {},
   "source": [
    "##### Part 1: iPstack and MongoDB"
   ]
  },
  {
   "cell_type": "markdown",
   "metadata": {},
   "source": [
    "Database Programming: Write a simple program in Python or Java that accomplishes the following:\n",
    "\n",
    "- Connects to your local MongoDB instance.\n",
    "- Creates a database named \"msba.\"\n",
    "- Inserts the document {\"ip\": \"192.168.1.1\", \"city\": \"Davis\", \"zip\": \"95616\"} into a collection called \"ip_addresses\" within the \"msba\" database."
   ]
  },
  {
   "cell_type": "code",
   "execution_count": 49,
   "metadata": {},
   "outputs": [
    {
     "name": "stdout",
     "output_type": "stream",
     "text": [
      "['admin', 'config', 'local', 'msba', 'pokemon', 'pokemon2', 'qs_msba', 'yocket']\n"
     ]
    }
   ],
   "source": [
    "from pymongo import MongoClient\n",
    "\n",
    "# Connect with DB, with MongoClient\n",
    "client = MongoClient(host='localhost', port=27017)\n",
    "print(client.list_database_names())"
   ]
  },
  {
   "cell_type": "code",
   "execution_count": 50,
   "metadata": {},
   "outputs": [
    {
     "name": "stdout",
     "output_type": "stream",
     "text": [
      "Database(MongoClient(host=['localhost:27017'], document_class=dict, tz_aware=False, connect=True), 'msba')\n"
     ]
    }
   ],
   "source": [
    "# Create a database named \"msba.\"\n",
    "db = client.msba\n",
    "print(db)"
   ]
  },
  {
   "cell_type": "code",
   "execution_count": 51,
   "metadata": {},
   "outputs": [
    {
     "name": "stderr",
     "output_type": "stream",
     "text": [
      "/var/folders/qk/cp6vzsf56nsb8yd0n4typwx00000gn/T/ipykernel_35937/1242779385.py:2: DeprecationWarning: insert is deprecated. Use insert_one or insert_many instead.\n",
      "  db.ip_addresses.insert({\"ip\": \"192.168.1.1\", \"city\": \"Davis\", \"zip\": \"95616\"})\n"
     ]
    },
    {
     "data": {
      "text/plain": [
       "ObjectId('65f12d6ce6672fd3e6d1c371')"
      ]
     },
     "execution_count": 51,
     "metadata": {},
     "output_type": "execute_result"
    }
   ],
   "source": [
    "# Insert the document {\"ip\": \"192.168.1.1\", \"city\": \"Davis\", \"zip\": \"95616\"} into a collection called \"ip_addresses\" within the \"msba\" database.\n",
    "db.ip_addresses.insert({\"ip\": \"192.168.1.1\", \"city\": \"Davis\", \"zip\": \"95616\"})"
   ]
  },
  {
   "cell_type": "code",
   "execution_count": 52,
   "metadata": {},
   "outputs": [
    {
     "name": "stdout",
     "output_type": "stream",
     "text": [
      "{'_id': ObjectId('65f121c8e6672fd3e6d1c369'),\n",
      " 'city': 'Davis',\n",
      " 'ip': '192.168.1.1',\n",
      " 'zip': '95616'}\n"
     ]
    }
   ],
   "source": [
    "import pprint\n",
    "\n",
    "# Check if the document insert was successful\n",
    "pprint.pprint(db.ip_addresses.find_one())"
   ]
  },
  {
   "cell_type": "markdown",
   "metadata": {},
   "source": [
    "formulate four URL strings to fetch the main fields in JSON format for the IP addresses \"8.8.8.8\", \"128.120.0.25\", \"128.32.12.14\", \"64.165.72.144\", and your own IP address (75.59.234.179)."
   ]
  },
  {
   "cell_type": "code",
   "execution_count": 53,
   "metadata": {},
   "outputs": [
    {
     "name": "stdout",
     "output_type": "stream",
     "text": [
      "http://api.ipstack.com/8.8.8.8?access_key=7ca71a26103c72148080b4541fc38b4f&output=json\n",
      "http://api.ipstack.com/128.120.0.25?access_key=7ca71a26103c72148080b4541fc38b4f&output=json\n",
      "http://api.ipstack.com/128.32.12.14?access_key=7ca71a26103c72148080b4541fc38b4f&output=json\n",
      "http://api.ipstack.com/64.165.72.144?access_key=7ca71a26103c72148080b4541fc38b4f&output=json\n",
      "http://api.ipstack.com/75.59.234.179?access_key=7ca71a26103c72148080b4541fc38b4f&output=json\n"
     ]
    }
   ],
   "source": [
    "access_key = \"7ca71a26103c72148080b4541fc38b4f\" # access key in my dashboard\n",
    "base_url = \"http://api.ipstack.com/{}?access_key={}&output=json\" # follow the ipstack API's output paramenter setup\n",
    "ip_addresses = [\"8.8.8.8\", \"128.120.0.25\", \"128.32.12.14\", \"64.165.72.144\", \"75.59.234.179\"]\n",
    "\n",
    "url_strings = [base_url.format(ip, access_key) for ip in ip_addresses]\n",
    "\n",
    "for url in url_strings:\n",
    "    print(url)"
   ]
  },
  {
   "cell_type": "markdown",
   "metadata": {},
   "source": [
    "API Call Program: Develop a program in Python or Java that makes the five API calls described\n",
    "above and displays the results on the screen."
   ]
  },
  {
   "cell_type": "code",
   "execution_count": 54,
   "metadata": {},
   "outputs": [],
   "source": [
    "import requests\n",
    "import time"
   ]
  },
  {
   "cell_type": "code",
   "execution_count": 55,
   "metadata": {},
   "outputs": [
    {
     "name": "stdout",
     "output_type": "stream",
     "text": [
      "Results:\n",
      "{'ip': '8.8.8.8', 'type': 'ipv4', 'continent_code': 'NA', 'continent_name': 'North America', 'country_code': 'US', 'country_name': 'United States', 'region_code': 'OH', 'region_name': 'Ohio', 'city': 'Glenmont', 'zip': '44628', 'latitude': 40.5369987487793, 'longitude': -82.12859344482422, 'location': {'geoname_id': None, 'capital': 'Washington D.C.', 'languages': [{'code': 'en', 'name': 'English', 'native': 'English'}], 'country_flag': 'https://assets.ipstack.com/flags/us.svg', 'country_flag_emoji': '🇺🇸', 'country_flag_emoji_unicode': 'U+1F1FA U+1F1F8', 'calling_code': '1', 'is_eu': False}}\n",
      "\n",
      "Results:\n",
      "{'ip': '128.120.0.25', 'type': 'ipv4', 'continent_code': 'NA', 'continent_name': 'North America', 'country_code': 'US', 'country_name': 'United States', 'region_code': 'CA', 'region_name': 'California', 'city': 'Davis', 'zip': '95616', 'latitude': 38.56296157836914, 'longitude': -121.81600952148438, 'location': {'geoname_id': 5341704, 'capital': 'Washington D.C.', 'languages': [{'code': 'en', 'name': 'English', 'native': 'English'}], 'country_flag': 'https://assets.ipstack.com/flags/us.svg', 'country_flag_emoji': '🇺🇸', 'country_flag_emoji_unicode': 'U+1F1FA U+1F1F8', 'calling_code': '1', 'is_eu': False}}\n",
      "\n",
      "Results:\n",
      "{'ip': '128.32.12.14', 'type': 'ipv4', 'continent_code': 'NA', 'continent_name': 'North America', 'country_code': 'US', 'country_name': 'United States', 'region_code': 'CA', 'region_name': 'California', 'city': 'Berkeley', 'zip': '94705', 'latitude': 37.86159896850586, 'longitude': -122.24205017089844, 'location': {'geoname_id': 5327684, 'capital': 'Washington D.C.', 'languages': [{'code': 'en', 'name': 'English', 'native': 'English'}], 'country_flag': 'https://assets.ipstack.com/flags/us.svg', 'country_flag_emoji': '🇺🇸', 'country_flag_emoji_unicode': 'U+1F1FA U+1F1F8', 'calling_code': '1', 'is_eu': False}}\n",
      "\n",
      "Results:\n",
      "{'ip': '64.165.72.144', 'type': 'ipv4', 'continent_code': 'NA', 'continent_name': 'North America', 'country_code': 'US', 'country_name': 'United States', 'region_code': 'CA', 'region_name': 'California', 'city': 'Florin', 'zip': '95819', 'latitude': 38.57093048095703, 'longitude': -121.4357681274414, 'location': {'geoname_id': 5349613, 'capital': 'Washington D.C.', 'languages': [{'code': 'en', 'name': 'English', 'native': 'English'}], 'country_flag': 'https://assets.ipstack.com/flags/us.svg', 'country_flag_emoji': '🇺🇸', 'country_flag_emoji_unicode': 'U+1F1FA U+1F1F8', 'calling_code': '1', 'is_eu': False}}\n",
      "\n",
      "Results:\n",
      "{'ip': '75.59.234.179', 'type': 'ipv4', 'continent_code': 'NA', 'continent_name': 'North America', 'country_code': 'US', 'country_name': 'United States', 'region_code': 'CA', 'region_name': 'California', 'city': 'Santa Clara', 'zip': '95050', 'latitude': 37.351478576660156, 'longitude': -121.95082092285156, 'location': {'geoname_id': 5393015, 'capital': 'Washington D.C.', 'languages': [{'code': 'en', 'name': 'English', 'native': 'English'}], 'country_flag': 'https://assets.ipstack.com/flags/us.svg', 'country_flag_emoji': '🇺🇸', 'country_flag_emoji_unicode': 'U+1F1FA U+1F1F8', 'calling_code': '1', 'is_eu': False}}\n",
      "\n"
     ]
    }
   ],
   "source": [
    "for url in url_strings:\n",
    "    response = requests.get(url)\n",
    "    if response.status_code == 200:\n",
    "        data = response.json() # Save the json strings into a Python object\n",
    "        # Print the results\n",
    "        print(\"Results:\")\n",
    "        print(data)\n",
    "        print()\n",
    "    else:\n",
    "        print(f\"Request Failed. Status code: {response.status_code}\")\n",
    "    \n",
    "    time.sleep(7) # Pause for 7 seconds between the requests"
   ]
  },
  {
   "cell_type": "markdown",
   "metadata": {},
   "source": [
    "JSON Parsing: Convert the JSON strings obtained in step 2 into an internal Python or Java object\n",
    "for further processing. Then, write code that iterates through the five API responses and prints the\n",
    "\"city\" and \"zip\" fields to the screen."
   ]
  },
  {
   "cell_type": "code",
   "execution_count": 56,
   "metadata": {},
   "outputs": [
    {
     "name": "stdout",
     "output_type": "stream",
     "text": [
      "City: Glenmont, ZIP: 44628\n",
      "City: Davis, ZIP: 95616\n",
      "City: Berkeley, ZIP: 94705\n"
     ]
    },
    {
     "ename": "KeyboardInterrupt",
     "evalue": "",
     "output_type": "error",
     "traceback": [
      "\u001b[0;31m---------------------------------------------------------------------------\u001b[0m",
      "\u001b[0;31mKeyboardInterrupt\u001b[0m                         Traceback (most recent call last)",
      "Cell \u001b[0;32mIn[56], line 12\u001b[0m\n\u001b[1;32m      9\u001b[0m \u001b[38;5;28;01melse\u001b[39;00m:\n\u001b[1;32m     10\u001b[0m     \u001b[38;5;28mprint\u001b[39m(\u001b[38;5;124mf\u001b[39m\u001b[38;5;124m\"\u001b[39m\u001b[38;5;124mRequest Failed. Status code: \u001b[39m\u001b[38;5;132;01m{\u001b[39;00mresponse\u001b[38;5;241m.\u001b[39mstatus_code\u001b[38;5;132;01m}\u001b[39;00m\u001b[38;5;124m\"\u001b[39m)\n\u001b[0;32m---> 12\u001b[0m \u001b[43mtime\u001b[49m\u001b[38;5;241;43m.\u001b[39;49m\u001b[43msleep\u001b[49m\u001b[43m(\u001b[49m\u001b[38;5;241;43m7\u001b[39;49m\u001b[43m)\u001b[49m\n",
      "\u001b[0;31mKeyboardInterrupt\u001b[0m: "
     ]
    }
   ],
   "source": [
    "for url in url_strings:\n",
    "    response = requests.get(url)\n",
    "    if response.status_code == 200:\n",
    "        data = response.json() # Save the json strings into a Python object\n",
    "        # Get city and zip fields and print them\n",
    "        city = data.get(\"city\", \"city not available\")\n",
    "        zip = data.get(\"zip\", \"zip not available\")\n",
    "        print(f\"City: {city}, ZIP: {zip}\")\n",
    "    else:\n",
    "        print(f\"Request Failed. Status code: {response.status_code}\")\n",
    "    \n",
    "    time.sleep(7) # Pause for 7 seconds between the requests"
   ]
  },
  {
   "cell_type": "markdown",
   "metadata": {},
   "source": [
    "Data Storage Enhancement: Modify your code from step (f) to also insert all five \"ip\", \"city\", and\n",
    "\"zip\" records into the \"ip_addresses\" collection you created in step (b)."
   ]
  },
  {
   "cell_type": "code",
   "execution_count": null,
   "metadata": {},
   "outputs": [
    {
     "name": "stdout",
     "output_type": "stream",
     "text": [
      "IP: 8.8.8.8, City: Glenmont, ZIP: 44628\n",
      "IP: 128.120.0.25, City: Davis, ZIP: 95616\n",
      "IP: 128.32.12.14, City: Berkeley, ZIP: 94705\n",
      "IP: 64.165.72.144, City: Florin, ZIP: 95819\n",
      "IP: 75.59.234.179, City: Santa Clara, ZIP: 95050\n"
     ]
    }
   ],
   "source": [
    "# Use the same list of IP addresses, access key, and base URL objects.\n",
    "# This time starting from IP is more convenient rather than using predefined URL as we need to insert ip address as well.\n",
    "\n",
    "ip_addresses_collection = db.ip_addresses\n",
    "\n",
    "for ip in ip_addresses:\n",
    "    url = base_url.format(ip, access_key) # create URL strings \n",
    "    response = requests.get(url)\n",
    "    if response.status_code == 200:\n",
    "        data = response.json() # Save the json strings into a Python object\n",
    "        # Get city and zip fields and print them\n",
    "        city = data.get(\"city\", \"city not available\")\n",
    "        zip = data.get(\"zip\", \"zip not available\")\n",
    "        print(f\"IP: {ip}, City: {city}, ZIP: {zip}\") # Print the result when the job was done successfully\n",
    "\n",
    "        # Add the records to the ip_addresses\n",
    "        ip_addresses_collection.insert({\"ip\": ip, \"city\": city, \"zip\": zip})\n",
    "\n",
    "    else:\n",
    "        print(f\"Request Failed. Status code: {response.status_code}\") # Message when failed\n",
    "    \n",
    "    time.sleep(7) # Pause for 7 seconds between the requests"
   ]
  },
  {
   "cell_type": "code",
   "execution_count": null,
   "metadata": {},
   "outputs": [
    {
     "name": "stdout",
     "output_type": "stream",
     "text": [
      "{'_id': ObjectId('65f121c8e6672fd3e6d1c369'),\n",
      " 'city': 'Davis',\n",
      " 'ip': '192.168.1.1',\n",
      " 'zip': '95616'}\n",
      "{'_id': ObjectId('65f12599e6672fd3e6d1c36b'),\n",
      " 'city': 'Glenmont',\n",
      " 'ip': '8.8.8.8',\n",
      " 'zip': '44628'}\n",
      "{'_id': ObjectId('65f125a0e6672fd3e6d1c36c'),\n",
      " 'city': 'Davis',\n",
      " 'ip': '128.120.0.25',\n",
      " 'zip': '95616'}\n",
      "{'_id': ObjectId('65f125a7e6672fd3e6d1c36d'),\n",
      " 'city': 'Berkeley',\n",
      " 'ip': '128.32.12.14',\n",
      " 'zip': '94705'}\n",
      "{'_id': ObjectId('65f125afe6672fd3e6d1c36e'),\n",
      " 'city': 'Florin',\n",
      " 'ip': '64.165.72.144',\n",
      " 'zip': '95819'}\n",
      "{'_id': ObjectId('65f125b6e6672fd3e6d1c36f'),\n",
      " 'city': 'Santa Clara',\n",
      " 'ip': '75.59.234.179',\n",
      " 'zip': '95050'}\n"
     ]
    }
   ],
   "source": [
    "# Check if the document insert was successful\n",
    "for docs in db.ip_addresses.find():\n",
    "    pprint.pprint(docs)"
   ]
  },
  {
   "cell_type": "markdown",
   "metadata": {},
   "source": [
    "##### Part 2: eBay + Selenium"
   ]
  },
  {
   "cell_type": "code",
   "execution_count": null,
   "metadata": {},
   "outputs": [],
   "source": [
    "# Import libraries\n",
    "from bs4 import BeautifulSoup\n",
    "import requests\n",
    "import time\n",
    "import os\n",
    "import json\n",
    "\n",
    "from selenium import webdriver\n",
    "from selenium.webdriver.chrome.webdriver import WebDriver\n",
    "from selenium.webdriver.chrome.service import Service\n",
    "from selenium.webdriver.common.by import By\n",
    "from selenium.webdriver.common.keys import Keys\n",
    "from selenium.webdriver.common.action_chains import ActionChains\n",
    "from selenium.webdriver.support.ui import WebDriverWait\n",
    "from selenium.webdriver.support import expected_conditions as EC"
   ]
  },
  {
   "cell_type": "code",
   "execution_count": 62,
   "metadata": {},
   "outputs": [
    {
     "name": "stdout",
     "output_type": "stream",
     "text": [
      "EBay LG Used Phones saved to ./ebay_used_lg_phones/unlocked-lg-128gb-used.html\n"
     ]
    }
   ],
   "source": [
    "chromedriver_path = os.path.join(os.getcwd(),'chromedriver')\n",
    "driver = webdriver.Chrome(executable_path=chromedriver_path) # I don't know why but I cannot launch the Chrome browser without the path to the chromedriver. So whenever I use selenium I copy and paste the chromedriver and make the path name using os.getcwd().\n",
    "\n",
    "time.sleep(1)\n",
    "\n",
    "# Automate Browser to Access eBay: Use Selenium in Python or Java to launch a browser and navigate to https://www.ebay.com/.\n",
    "# go to eBay\n",
    "driver.get('https://www.ebay.com/') \n",
    "\n",
    "time.sleep(5)\n",
    "\n",
    "#Search for Items on eBay: Utilize Selenium in Python or Java to perform a search for “Cell Phones” on eBay.\n",
    "# Find the search input element by ID \n",
    "search_input = driver.find_element(By.ID,'gh-ac')\n",
    "# Input the search keyword \n",
    "search_input.send_keys(\"Cell Phones\")\n",
    "search_input.submit() #Submit thesearch \n",
    "\n",
    "time.sleep(5)\n",
    "\n",
    "# IMPORTANT: If it proves very hard to solve (c), please move on and ignore (some of) the filters. This question represents only a small fraction of points and all subsequent questions can be solved without the filters being placed (and are worth many more points).\n",
    "\n",
    "# Apply Filters: With the search results displayed, employ Selenium in Python or Java to apply the following filters: \n",
    "# Network: Unlocked\n",
    "unlocked = driver.find_element(By.CSS_SELECTOR, 'input[aria-label=\"Unlocked\"]') # find element with aria-label\n",
    "unlocked.click()\n",
    "time.sleep(5)\n",
    "\n",
    "# Brand: LG\n",
    "# Scroll down to the next checkbox with script and click\n",
    "lg = driver.find_element(By.CSS_SELECTOR, 'input[aria-label=\"LG\"]')\n",
    "driver.execute_script(\"arguments[0].scrollIntoView(true);\", lg)\n",
    "time.sleep(2)\n",
    "lg.click()\n",
    "time.sleep(5)\n",
    "\n",
    "# Screen Size: 6 in or More\n",
    "# Scroll down to the next checkbox with script and click\n",
    "screen = driver.find_element(By.CSS_SELECTOR, 'input[aria-label=\"6 in or More\"]')\n",
    "driver.execute_script(\"arguments[0].scrollIntoView(true);\", screen)\n",
    "time.sleep(2)\n",
    "screen.click()\n",
    "time.sleep(5)\n",
    "\n",
    "# Storage Capacity: 128 GB\n",
    "# Scroll down to the next checkbox with script and click\n",
    "storage = driver.find_element(By.CSS_SELECTOR, 'input[aria-label=\"128 GB\"]')\n",
    "driver.execute_script(\"arguments[0].scrollIntoView(true);\", storage)\n",
    "time.sleep(2)\n",
    "storage.click()\n",
    "time.sleep(5)\n",
    "\n",
    "# Lock Status: Factory Unlocked\n",
    "# Scroll down to the next checkbox with script and click\n",
    "unlocked = driver.find_element(By.CSS_SELECTOR, 'input[aria-label=\"Factory Unlocked\"]')\n",
    "driver.execute_script(\"arguments[0].scrollIntoView(true);\", unlocked)\n",
    "time.sleep(2)\n",
    "unlocked.click()\n",
    "time.sleep(5)\n",
    "\n",
    "# Condition: Used\n",
    "# Scroll down to the next checkbox with script and click\n",
    "used = driver.find_element(By.CSS_SELECTOR, 'input[aria-label=\"Used\"]')\n",
    "driver.execute_script(\"arguments[0].scrollIntoView(true);\", used)\n",
    "time.sleep(2)\n",
    "used.click()\n",
    "time.sleep(5)\n",
    "\n",
    "# Save Results Page\n",
    "\n",
    "# Set save path to save the html files\n",
    "save_path = \"./ebay_used_lg_phones\"\n",
    "# Create the directory into the current working directory if it does not exist\n",
    "os.makedirs(save_path, exist_ok=True)\n",
    "\n",
    "# Save the ranking page HTML to my local hard drive\n",
    "# Retrieve the source code of the review page \n",
    "ranking_source = driver.page_source\n",
    "# Define the file name\n",
    "file_name = \"unlocked-lg-128gb-used.html\"\n",
    "\n",
    "path = os.path.join(save_path, file_name) # Append the file name to the save path\n",
    "\n",
    "# Save the source code as a HTML file to my local\n",
    "with open(path, 'w', encoding='utf-8') as file:\n",
    "    file.write(ranking_source)\n",
    "\n",
    "print(f'EBay LG Used Phones saved to {path}')\n",
    "time.sleep(10)\n",
    "\n",
    "driver.quit() # Close the browser"
   ]
  },
  {
   "cell_type": "code",
   "execution_count": 80,
   "metadata": {},
   "outputs": [
    {
     "name": "stdout",
     "output_type": "stream",
     "text": [
      "\n",
      "LG Velvet 5G 128GB Grey LM-G900TM (T-Mobile Unlocked) Reduced Price zW7656\n",
      "LG Velvet 5G - LM-G900VMP 128GB Gray Verizon + GSM Unlocked LTE Smartphone GREAT\n",
      "LG K61 LG-Q630UM 128GB Unlocked White Android Smartphone\n",
      "LG Velvet 5G 128GB Gray LM-G900TM (Unlocked) - GSM World Phone - DV8150\n",
      "LG Velvet 5G LM-G900UM G900 (Unlocked) 128GB 6.8\" - Excellent Condition\n",
      "LG G8 Thinq - LM-G820 - 128GB - Black (T-Mobile - Password Locked) (s11568)\n",
      "LG G8 ThinQ 4G 5G LM-G820QM 128GB Smartphone - Factory Unlocked\n",
      "LG G8 ThinQ - 128GB - Aurora Black (Unlocked) Grade C\n",
      "LG RARE FLIP PHONE Ux280-WINE RED VINTAGE RETRO PURPLE US CELLULAR\n",
      "LG Velvet 5G G900UM 128GB Aurora Silver 6.8\" Screen (AT&T) -*Good**LGVelvet*LG98\n",
      "LG G8X ThinQ LM-G850 AT&T Only 128GB Black C Light Burn\n",
      "USED - LG V30+ H930DS 128GB (FACTORY UNLOCKED) 6.0\" 4GB RAM Raspberry Rose\n",
      "USED - LG V30+ H930DS 128GB (FACTORY UNLOCKED) 6.0\" 4GB RAM - Violet\n",
      "LG Velvet 5G 128GB Gray LM-G900TM (Unlocked) - GSM World Phone - DF8149\n",
      "LG G8X ThinQ LMG850UM9 128GB Black (Sprint T-Mobile AT&T) C GSM Unlocked\n",
      "LG V50 ThinQ V500N V450PM V450VM Original Unlocked 6GB+128GB ROM 16MP Smartphone\n",
      "Rooted LG G8 ThinQ Nethunter Pentest Hacker Phone Internal Monitor Mode H@cker\n",
      "LG G8X G850 128GB Black AT&T GSM Unlocked LCD Shadow Very Good\n",
      "USED - LG V30+ H930DS 128GB (FACTORY UNLOCKED) 6.0\" 4GB RAM Silver\n",
      "LG Velvet LM-G900N 6.8\" OLED Display 4G/5G Factory Unlocked 8GB/128GB\n",
      "LG Velvet 5G LM-G900 128GB Unlocked Android Smartphone | Excellent\n",
      "LG G8 ThinQ Unlocked Verizon T-Mobile AT&T LMG820 128GB 4G+| Excellent\n",
      "LG Velvet 5G LM-G900 128GB, AT&T, Aurora Silver *Grade C*\n",
      "LG V60 ThinQ 5G 128GB Classy Blue UNLOCKED T-Mobile NEEDS WORK READ DESCRIPTION\n",
      "LG alltel used phone\n",
      "LG V50 ThinQ V500N V450PM Original Unlocked 6GB RAM 128GB ROM 16MP Cellphone\n",
      "[DHL Shipping] LG Velvet2 Pro (LM-V700N) collection original box\n",
      "LG V40 ThinQ Original Unlocked V405UA V409N 6.4 Inches 64GB/128GB LTE Cellphone\n",
      "LG Velvet 5G LM-G900 6GB/128GB 6.8 Inch Triple Camera T-Mobile 9/10 Grade\n",
      "LG V30 Original Unlocked 4GB RAM 64GB/128GB ROM 6.0 Inches 16.0MP LTE Cellphone\n",
      "LG VELVET G9 Original Unlocked 6.8'' NFC G900N G900VM 6GB+128GB 16MP SmartPhone\n",
      "LG V40 ThinQ Original Unlocked V405UA V409N 6.4 Inches 64GB/128GB LTE Cellphone\n",
      "Android LG G8X ThinQ LM-G850UM / LMG850EMW 4G LTE 6.4\" 128GB 6GB RAM Phone\n",
      "6.4'' LG V40 ThinQ 4G LTE Cell Phone 6GB RAM 64GB ROM 16MP SmartPhone Unlocked\n",
      "LG V50 ThinnQ 5G LM-V500V 6GB RAM (Unlocked) Smartphone - Black read desc.\n",
      "6.4'' LG V50 V500N V450PM ThinQ 5G LTE NFC Cell Phone 6GB+128GB SmartPhone\n",
      "6.8'' LG V60 5G ThinQ Cell Phone Android SamrtPhone 8GB RAM 128GB ROM Phone\n",
      "LG V50 ThinQ 5G LM-V500N (Korea) LM-V450PM (Sprint) Android 16MPCell Phone 6.4\"\n",
      "LG V50 ThinQ V500N V450PM Original Unlocked 6GB RAM 128GB ROM 16MP Cellphone\n",
      "LG VELVET G9 Original Unlocked 6.8'' NFC G900N G900VM 6GB+128GB 16MP SmartPhone\n",
      "LG G8 ThinQ 4G LTE Cell Phone Android 10.0 SmartPhone 6GB+128GB NFC Unlocked\n",
      "6.8'' LG VELVET G9 SmartPhone Screen Cell Phone Google Play Unlocked\n",
      "LG V60 ThinQ 5G Original 128GB ROM 64MP V600AM V600TM V600VM Unlocked Smartphone\n",
      "LG Velvet 5G - Unlocked\n",
      "LG V50 THINQ 5G V500N 6gb 128gb Fingerprint Android 11 Dual Screen\n",
      "USED - LG V30+ H930DS 128GB 4GB RAM (FACTORY UNLOCKED) 6.0\" 16MP - Violet\n",
      "USED - LG V30+ H930DS 128GB (FACTORY UNLOCKED) 4GB RAM - 6.0\" 16MP - Black\n",
      "LG G8X ThinQ LM-G850UM / LMG850EMW Android 4G LTE 6.4\" 128GB 6GB RAM CellPhone\n",
      "LG V30 Original Unlocked 4GB RAM 64GB/128GB ROM 6.0 Inches 16.0MP LTE Cellphone\n",
      "LG G8X ThinQ LM-G850UM / LMG850EMW 4G LTE 6.4\" Android 128GB 6GB RAM Phone\n",
      "LG G8X ThinQ LM-G850UM / LMG850EMW Android 4G LTE 128GB 6GB RAM 6.4\" CellPhone\n",
      "4G LTE LG G8X ThinQ LM-G850UM / LMG850EMW Android 6.4\" 128GB 6GB RAM Phone\n",
      "4G LTE LG G8X ThinQ LM-G850UM / LMG850EMW Android 128GB 6GB RAM 6.4\" Phone\n",
      "Android LG G8X ThinQ LM-G850UM / LMG850EMW 6.4\" 128GB 6GB RAM 4G LTE Phone\n",
      "Android LG V50 ThinQ 5G LM-V500N (Korea) LM-V450PM (Sprint) 16MP Cell Phone 6.4\"\n",
      "LG G8X ThinQ LM-G850UM / LMG850EMW Android 4G LTE 6.4\" 128GB 6GB RAM Phone\n",
      "LG G8X ThinQ LM-G850UM / LMG850EMW Android 4G LTE 128GB 6GB RAM 6.4\" Phone\n",
      "LG G8X ThinQ LM-G850UM / LMG850EMW Android 6.4\" 128GB 6GB RAM 4G LTE Phone\n",
      "Android 6.4\" LG G8X ThinQ LM-G850UM / LMG850EMW 4G LTE 128GB 6GB RAM Phone\n",
      "LG G8X ThinQ LM-G850UM / LMG850EMW 4G LTE Android 6.4\" 128GB 6GB RAM Phone\n",
      "LG Velvet 5G LM-G900UM G900 (Unlocked) 128GB 6.8\" - Excellent Condition\n",
      "LG G8 ThinQ Unlocked Verizon T-Mobile AT&T LMG820 128GB 4G+| Excellent\n",
      "Android LG G8X ThinQ LM-G850UM / LMG850EMW 4G LTE 6.4\" 128GB 6GB RAM Phone\n",
      "LG Velvet 5G LM-G900 128GB Unlocked Android Smartphone | Excellent\n",
      "USED - LG V30+ H930DS 128GB 4GB RAM (FACTORY UNLOCKED) 6.0\" 16MP - Violet\n",
      "LG Velvet LM-G900N 6.8\" OLED Display 4G/5G Factory Unlocked 8GB/128GB\n",
      "LG G8 ThinQ 4G LTE Cell Phone Android 10.0 SmartPhone 6GB+128GB NFC Unlocked\n",
      "6.8'' LG V60 5G ThinQ Cell Phone Android SamrtPhone 8GB RAM 128GB ROM Phone\n",
      "6.4'' LG V50 V500N V450PM ThinQ 5G LTE NFC Cell Phone 6GB+128GB SmartPhone\n",
      "6.4'' LG V40 ThinQ 4G LTE Cell Phone 6GB RAM 64GB ROM 16MP SmartPhone Unlocked\n",
      "LG G8X G850 128GB Black AT&T GSM Unlocked LCD Shadow Very Good\n",
      "4G LTE LG G8X ThinQ LM-G850UM / LMG850EMW Android 128GB 6GB RAM 6.4\" Phone\n",
      "USED - LG V30+ H930DS 128GB (FACTORY UNLOCKED) 4GB RAM - 6.0\" 16MP - Black\n",
      "LG G8X ThinQ LM-G850 AT&T Only 128GB Black C Light Burn\n",
      "6.8'' LG VELVET G9 SmartPhone Screen Cell Phone Google Play Unlocked\n",
      "4G LTE LG G8X ThinQ LM-G850UM / LMG850EMW Android 6.4\" 128GB 6GB RAM Phone\n",
      "LG Velvet 5G LM-G900 128GB, AT&T, Aurora Silver *Grade C*\n",
      "USED - LG V30+ H930DS 128GB (FACTORY UNLOCKED) 6.0\" 4GB RAM Silver\n",
      "LG G8X ThinQ LM-G850UM / LMG850EMW Android 4G LTE 6.4\" 128GB 6GB RAM Phone\n",
      "LG Velvet 5G - LM-G900VMP 128GB Gray Verizon + GSM Unlocked LTE Smartphone GREAT\n"
     ]
    }
   ],
   "source": [
    "# Parse and Analyze Data: Open and parse the saved HTML file “unlocked-lg-128gb-used.html” using Python with BeautifulSoup or Java with Jsoup.\n",
    "# Extract and Print Information: For each item listed on the parsed page, extract and print-to-screen the following details:\n",
    "# Title\n",
    "# Seller\n",
    "# Seller rating (percentage)\n",
    "# Price\n",
    "# Shipping information (if available)\n",
    "# Return information (if available)\n",
    "# Number of bids (if applicable)\n",
    "\n",
    "# Construct the URL for the file\n",
    "working_dir = os.getcwd() # current working directory\n",
    "path2 = os.path.join(working_dir,'ebay_used_lg_phones','unlocked-lg-128gb-used.html')\n",
    "file_url = f\"file://{path2}\"\n",
    "\n",
    "# Find the title element and print to check \n",
    "driver = webdriver.Chrome(executable_path=chromedriver_path) # Launch the Chrome browser\n",
    "time.sleep(5)\n",
    "\n",
    "# Open the saved HTML file\n",
    "driver.get(file_url)\n",
    "time.sleep(5)\n",
    "\n",
    "title_elements = driver.find_elements(By.CLASS_NAME, \"s-item__title\")\n",
    "for e in title_elements:\n",
    "    print(e.text)\n",
    "driver.quit() # Close the browser\n",
    "\n",
    "# The first row is empty, need to skip the first entry"
   ]
  },
  {
   "cell_type": "code",
   "execution_count": 67,
   "metadata": {},
   "outputs": [
    {
     "name": "stdout",
     "output_type": "stream",
     "text": [
      "Seller Name: soonersoft \n",
      " Seller Rating: 98.8%\n",
      "Seller Name: discountphonedepot \n",
      " Seller Rating: 97.5%\n",
      "Seller Name: monkeytote \n",
      " Seller Rating: 98.5%\n",
      "Seller Name: soonersoft \n",
      " Seller Rating: 98.8%\n",
      "Seller Name: wikiwoo \n",
      " Seller Rating: 98.9%\n",
      "Seller Name: katiesriches \n",
      " Seller Rating: 97.1%\n",
      "Seller Name: electronicsradar \n",
      " Seller Rating: 96.9%\n",
      "Seller Name: bstco \n",
      " Seller Rating: 99.5%\n",
      "Seller Name: theworldofstephjones \n",
      " Seller Rating: 100%\n",
      "Seller Name: cucoins88 \n",
      " Seller Rating: 99.6%\n",
      "Seller Name: yywirelesss \n",
      " Seller Rating: 98.2%\n",
      "Seller Name: never-msrp \n",
      " Seller Rating: 99.5%\n",
      "Seller Name: never-msrp \n",
      " Seller Rating: 99.5%\n",
      "Seller Name: soonersoft \n",
      " Seller Rating: 98.8%\n",
      "Seller Name: 8ten1944 \n",
      " Seller Rating: 99.5%\n",
      "Seller Name: valueorder \n",
      " Seller Rating: 95.4%\n",
      "Seller Name: bar-5468 \n",
      " Seller Rating: 95.6%\n",
      "Seller Name: cellularstream \n",
      " Seller Rating: 98.4%\n",
      "Seller Name: never-msrp \n",
      " Seller Rating: 99.5%\n",
      "Seller Name: with_us \n",
      " Seller Rating: 98.9%\n",
      "Seller Name: miamiwireless \n",
      " Seller Rating: 98.7%\n",
      "Seller Name: miamiwireless \n",
      " Seller Rating: 98.7%\n",
      "Seller Name: wilzeecorp \n",
      " Seller Rating: 98.4%\n",
      "Seller Name: senorwillburr \n",
      " Seller Rating: 93.3%\n",
      "Seller Name: boughtnowcommerce \n",
      " Seller Rating: 99.9%\n",
      "Seller Name: bwop6402 \n",
      " Seller Rating: 96.1%\n",
      "Seller Name: piety11 \n",
      " Seller Rating: 97.4%\n",
      "Seller Name: bwop6402 \n",
      " Seller Rating: 96.1%\n",
      "Seller Name: jcsmartwatchcollections \n",
      " Seller Rating: 100%\n",
      "Seller Name: bwop6402 \n",
      " Seller Rating: 96.1%\n",
      "Seller Name: bwop6402 \n",
      " Seller Rating: 96.1%\n",
      "Seller Name: pyxp5717 \n",
      " Seller Rating: 94.6%\n",
      "Seller Name: digital-home888 \n",
      " Seller Rating: 93.2%\n",
      "Seller Name: winwin2010 \n",
      " Seller Rating: 100%\n",
      "Seller Name: anakinwalker \n",
      " Seller Rating: 100%\n",
      "Seller Name: winwin2010 \n",
      " Seller Rating: 100%\n",
      "Seller Name: winwin2010 \n",
      " Seller Rating: 100%\n",
      "Seller Name: tech-link-all \n",
      " Seller Rating: 100%\n",
      "Seller Name: pyxp5717 \n",
      " Seller Rating: 94.6%\n",
      "Seller Name: pyxp5717 \n",
      " Seller Rating: 94.6%\n",
      "Seller Name: winwin2010 \n",
      " Seller Rating: 100%\n",
      "Seller Name: winwin2010 \n",
      " Seller Rating: 100%\n",
      "Seller Name: pyxp5717 \n",
      " Seller Rating: 94.6%\n",
      "Seller Name: williamr8810 \n",
      " Seller Rating: 0%\n",
      "Seller Name: salam-mobile \n",
      " Seller Rating: 97.2%\n",
      "Seller Name: never-msrp \n",
      " Seller Rating: 99.5%\n",
      "Seller Name: never-msrp \n",
      " Seller Rating: 99.5%\n",
      "Seller Name: tech-link-all \n",
      " Seller Rating: 100%\n",
      "Seller Name: pyxp5717 \n",
      " Seller Rating: 94.6%\n",
      "Seller Name: phone360 \n",
      " Seller Rating: 93.3%\n",
      "Seller Name: utechmobile \n",
      " Seller Rating: 96.2%\n",
      "Seller Name: lt-trading \n",
      " Seller Rating: 93.5%\n",
      "Seller Name: findsuperdeal \n",
      " Seller Rating: 92.9%\n",
      "Seller Name: wireless-age \n",
      " Seller Rating: 90%\n",
      "Seller Name: ubest-mobile-phone \n",
      " Seller Rating: 83.3%\n",
      "Seller Name: top4easy \n",
      " Seller Rating: 98%\n",
      "Seller Name: cell-on-sale \n",
      " Seller Rating: 98%\n",
      "Seller Name: ubest-mobile-phone \n",
      " Seller Rating: 83.3%\n",
      "Seller Name: 8smartbiz \n",
      " Seller Rating: 100%\n",
      "Seller Name: utech365 \n",
      " Seller Rating: 93.3%\n"
     ]
    }
   ],
   "source": [
    "# Find the seller element and print to check \n",
    "driver = webdriver.Chrome(executable_path=chromedriver_path) # Launch the Chrome browser\n",
    "time.sleep(5)\n",
    "\n",
    "# Open the saved HTML file\n",
    "driver.get(file_url)\n",
    "time.sleep(5)\n",
    "\n",
    "seller_elements = driver.find_elements(By.CLASS_NAME, \"s-item__seller-info-text\")\n",
    "for e in seller_elements:\n",
    "    seller = e.text.split(\" \") # to divide seller name and the rating, divide text into 3 parts with space\n",
    "    seller_name = seller[0]\n",
    "    seller_rating = seller[2]\n",
    "    # Print the results\n",
    "    print(f\"Seller Name: {seller_name} \\n Seller Rating: {seller_rating}\")\n",
    "driver.quit() # Close the browser"
   ]
  },
  {
   "cell_type": "code",
   "execution_count": 68,
   "metadata": {},
   "outputs": [
    {
     "name": "stdout",
     "output_type": "stream",
     "text": [
      "\n",
      "$104.19\n",
      "$129.70\n",
      "$89.99\n",
      "$125.98\n",
      "$124.95\n",
      "$30.00\n",
      "$48.00\n",
      "$85.99\n",
      "$56.99\n",
      "$92.75\n",
      "$89.99\n",
      "$129.99\n",
      "$134.99\n",
      "$116.98\n",
      "$197.61\n",
      "$155.00\n",
      "$250.00\n",
      "$134.94\n",
      "$124.99\n",
      "$308.51\n",
      "$188.99\n",
      "$139.99\n",
      "$155.95\n",
      "$249.00\n",
      "$50.90\n",
      "$176.00\n",
      "$1,290.00\n",
      "$138.00 to $170.00\n",
      "$199.95\n",
      "$120.00\n",
      "$198.00 to $200.00\n",
      "$140.00 to $172.00\n",
      "$166.28 to $179.72\n",
      "$145.00\n",
      "$1,000.00\n",
      "$199.00\n",
      "$225.00\n",
      "$145.94\n",
      "$178.00\n",
      "$200.00 to $202.00\n",
      "$154.00\n",
      "$205.00\n",
      "$232.00\n",
      "$196.48\n",
      "$240.00\n",
      "$134.99\n",
      "$134.99\n",
      "$167.81 to $181.95\n",
      "$122.00\n",
      "$169.71 to $183.58\n",
      "$170.37 to $184.63\n",
      "$167.31 to $181.41\n",
      "$169.72 to $184.01\n",
      "$167.01 to $181.11\n",
      "$146.12\n",
      "$166.66 to $180.99\n",
      "$166.72 to $180.90\n",
      "$167.82 to $182.04\n",
      "$169.08 to $183.33\n",
      "$184.38\n",
      "$124.95\n",
      "$139.99\n",
      "$166.28\n",
      "$188.99\n",
      "$134.99\n",
      "$308.51\n",
      "$154.00\n",
      "$225.00\n",
      "$199.00\n",
      "$145.00\n",
      "$134.94\n",
      "$169.72\n",
      "$134.99\n",
      "$89.99\n",
      "$205.00\n",
      "$167.31\n",
      "$155.95\n",
      "$124.99\n",
      "$166.66\n",
      "$129.70\n"
     ]
    }
   ],
   "source": [
    "# Find the price element and print to check \n",
    "driver = webdriver.Chrome(executable_path=chromedriver_path) # Launch the Chrome browser\n",
    "time.sleep(5)\n",
    "\n",
    "# Open the saved HTML file\n",
    "driver.get(file_url)\n",
    "time.sleep(5)\n",
    "\n",
    "price_elements = driver.find_elements(By.CLASS_NAME, \"s-item__price\")\n",
    "for e in price_elements:\n",
    "    price_elements = e.text\n",
    "    print(price_elements)\n",
    "driver.quit() # Close the browser\n",
    "\n",
    "# The first row is empty, need to skip the first entry"
   ]
  },
  {
   "cell_type": "code",
   "execution_count": 69,
   "metadata": {},
   "outputs": [
    {
     "name": "stdout",
     "output_type": "stream",
     "text": [
      "Free shipping\n",
      "Free shipping\n",
      "Free shipping\n",
      "Free shipping\n",
      "Free shipping\n",
      "+$6.15 shipping\n",
      "Free shipping\n",
      "Free shipping\n",
      "+$6.05 shipping\n",
      "+$6.15 shipping\n",
      "Free shipping\n",
      "Free shipping\n",
      "Free shipping\n",
      "Free shipping\n",
      "Free shipping\n",
      "Free shipping\n",
      "Free shipping\n",
      "Free shipping\n",
      "Free shipping\n",
      "Free shipping\n",
      "Free shipping\n",
      "Free shipping\n",
      "Free shipping\n",
      "+$6.15 shipping\n",
      "+$7.95 shipping\n",
      "Free shipping\n",
      "+$25.00 shipping\n",
      "Free shipping\n",
      "+$9.99 shipping\n",
      "Free shipping\n",
      "Free shipping\n",
      "Free shipping\n",
      "Free shipping\n",
      "Free shipping\n",
      "Free shipping\n",
      "Free shipping\n",
      "Free shipping\n",
      "Free shipping\n",
      "Free shipping\n",
      "Free shipping\n",
      "Free shipping\n",
      "Free shipping\n",
      "Free shipping\n",
      "+$22.96 shipping\n",
      "+$22.00 shipping\n",
      "Free shipping\n",
      "Free shipping\n",
      "Free shipping\n",
      "Free shipping\n",
      "Free shipping\n",
      "Free shipping\n",
      "Free shipping\n",
      "Free shipping\n",
      "Free shipping\n",
      "Free shipping\n",
      "Free shipping\n",
      "Free shipping\n",
      "Free shipping\n",
      "Free shipping\n",
      "Free shipping\n",
      "Free shipping\n",
      "Free shipping\n",
      "Free shipping\n",
      "Free shipping\n",
      "Free shipping\n",
      "Free shipping\n",
      "Free shipping\n",
      "Free shipping\n",
      "Free shipping\n",
      "Free shipping\n",
      "Free shipping\n",
      "Free shipping\n",
      "Free shipping\n",
      "Free shipping\n",
      "Free shipping\n",
      "Free shipping\n",
      "Free shipping\n",
      "Free shipping\n",
      "Free shipping\n",
      "Free shipping\n"
     ]
    }
   ],
   "source": [
    "# Find the shipping element and print to check \n",
    "driver = webdriver.Chrome(executable_path=chromedriver_path) # Launch the Chrome browser\n",
    "time.sleep(5)\n",
    "\n",
    "# Open the saved HTML file\n",
    "driver.get(file_url)\n",
    "time.sleep(5)\n",
    "\n",
    "shipping_elements = driver.find_elements(By.CLASS_NAME, \"s-item__shipping\")\n",
    "for e in shipping_elements:\n",
    "    print(e.text)\n",
    "driver.quit() # Close the browser"
   ]
  },
  {
   "cell_type": "code",
   "execution_count": 70,
   "metadata": {},
   "outputs": [
    {
     "name": "stdout",
     "output_type": "stream",
     "text": [
      "Free returns\n",
      "Free returns\n",
      "Free returns\n",
      "Free returns\n",
      "Free returns\n",
      "Free returns\n",
      "Free returns\n",
      "Free returns\n",
      "Free returns\n",
      "Free returns\n",
      "Free returns\n",
      "Free returns\n",
      "Free returns\n",
      "Free returns\n",
      "Free returns\n",
      "Free returns\n",
      "Free returns\n",
      "Free returns\n"
     ]
    }
   ],
   "source": [
    "# Find the return and print to check \n",
    "driver = webdriver.Chrome(executable_path=chromedriver_path) # Launch the Chrome browser\n",
    "time.sleep(5)\n",
    "\n",
    "# Open the saved HTML file\n",
    "driver.get(file_url)\n",
    "time.sleep(5)\n",
    "\n",
    "return_elements = driver.find_elements(By.CLASS_NAME, \"s-item__free-returns\")\n",
    "for e in return_elements:\n",
    "    print(e.text)\n",
    "driver.quit() # Close the browser"
   ]
  },
  {
   "cell_type": "code",
   "execution_count": 71,
   "metadata": {},
   "outputs": [
    {
     "name": "stdout",
     "output_type": "stream",
     "text": [
      "0\n",
      "30\n"
     ]
    }
   ],
   "source": [
    "# Find the Number of bids and print to check \n",
    "driver = webdriver.Chrome(executable_path=chromedriver_path) # Launch the Chrome browser\n",
    "time.sleep(5)\n",
    "\n",
    "# Open the saved HTML file\n",
    "driver.get(file_url)\n",
    "time.sleep(5)\n",
    "\n",
    "bids_elements = driver.find_elements(By.CLASS_NAME, \"s-item__bids\")\n",
    "for e in bids_elements:\n",
    "    bidcount = e.text.split(\" \")\n",
    "    num_bids = bidcount[0]\n",
    "    print(num_bids)\n",
    "driver.quit() # Close the browser\n",
    "\n",
    "# There are only two bids numbers"
   ]
  },
  {
   "cell_type": "code",
   "execution_count": 83,
   "metadata": {},
   "outputs": [
    {
     "name": "stdout",
     "output_type": "stream",
     "text": [
      "[{'Title': 'LG Velvet 5G 128GB Grey LM-G900TM (T-Mobile Unlocked) Reduced Price zW7656', 'Seller': 'soonersoft', 'Seller rating': '98.8%', 'Price': '$104.19', 'Shipping information': 'Free shipping', 'Return information': 'Free returns', 'Number of bids': '0'}, {'Title': 'LG Velvet 5G - LM-G900VMP 128GB Gray Verizon + GSM Unlocked LTE Smartphone GREAT', 'Seller': 'discountphonedepot', 'Seller rating': '97.5%', 'Price': '$129.70', 'Shipping information': 'Free shipping', 'Return information': 'Free returns', 'Number of bids': '30'}, {'Title': 'LG K61 LG-Q630UM 128GB Unlocked White Android Smartphone', 'Seller': 'monkeytote', 'Seller rating': '98.5%', 'Price': '$89.99', 'Shipping information': 'Free shipping', 'Return information': 'Free returns', 'Number of bids': 'N/A'}, {'Title': 'LG Velvet 5G 128GB Gray LM-G900TM (Unlocked) - GSM World Phone - DV8150', 'Seller': 'soonersoft', 'Seller rating': '98.8%', 'Price': '$125.98', 'Shipping information': 'Free shipping', 'Return information': 'Free returns', 'Number of bids': 'N/A'}, {'Title': 'LG Velvet 5G LM-G900UM G900 (Unlocked) 128GB 6.8\" - Excellent Condition', 'Seller': 'wikiwoo', 'Seller rating': '98.9%', 'Price': '$124.95', 'Shipping information': 'Free shipping', 'Return information': 'Free returns', 'Number of bids': 'N/A'}, {'Title': 'LG G8 Thinq - LM-G820 - 128GB - Black (T-Mobile - Password Locked) (s11568)', 'Seller': 'katiesriches', 'Seller rating': '97.1%', 'Price': '$30.00', 'Shipping information': '+$6.15 shipping', 'Return information': 'Free returns', 'Number of bids': 'N/A'}, {'Title': 'LG G8 ThinQ 4G 5G LM-G820QM 128GB Smartphone - Factory Unlocked', 'Seller': 'electronicsradar', 'Seller rating': '96.9%', 'Price': '$48.00', 'Shipping information': 'Free shipping', 'Return information': 'Free returns', 'Number of bids': 'N/A'}, {'Title': 'LG G8 ThinQ - 128GB - Aurora Black (Unlocked) Grade C', 'Seller': 'bstco', 'Seller rating': '99.5%', 'Price': '$85.99', 'Shipping information': 'Free shipping', 'Return information': 'Free returns', 'Number of bids': 'N/A'}, {'Title': 'LG RARE FLIP PHONE Ux280-WINE RED VINTAGE RETRO PURPLE US CELLULAR', 'Seller': 'theworldofstephjones', 'Seller rating': '100%', 'Price': '$56.99', 'Shipping information': '+$6.05 shipping', 'Return information': 'Free returns', 'Number of bids': 'N/A'}, {'Title': 'LG Velvet 5G G900UM 128GB Aurora Silver 6.8\" Screen (AT&T) -*Good**LGVelvet*LG98', 'Seller': 'cucoins88', 'Seller rating': '99.6%', 'Price': '$92.75', 'Shipping information': '+$6.15 shipping', 'Return information': 'Free returns', 'Number of bids': 'N/A'}, {'Title': 'LG G8X ThinQ LM-G850 AT&T Only 128GB Black C Light Burn', 'Seller': 'yywirelesss', 'Seller rating': '98.2%', 'Price': '$89.99', 'Shipping information': 'Free shipping', 'Return information': 'Free returns', 'Number of bids': 'N/A'}, {'Title': 'USED - LG V30+ H930DS 128GB (FACTORY UNLOCKED) 6.0\" 4GB RAM Raspberry Rose', 'Seller': 'never-msrp', 'Seller rating': '99.5%', 'Price': '$129.99', 'Shipping information': 'Free shipping', 'Return information': 'Free returns', 'Number of bids': 'N/A'}, {'Title': 'USED - LG V30+ H930DS 128GB (FACTORY UNLOCKED) 6.0\" 4GB RAM - Violet', 'Seller': 'never-msrp', 'Seller rating': '99.5%', 'Price': '$134.99', 'Shipping information': 'Free shipping', 'Return information': 'Free returns', 'Number of bids': 'N/A'}, {'Title': 'LG Velvet 5G 128GB Gray LM-G900TM (Unlocked) - GSM World Phone - DF8149', 'Seller': 'soonersoft', 'Seller rating': '98.8%', 'Price': '$116.98', 'Shipping information': 'Free shipping', 'Return information': 'Free returns', 'Number of bids': 'N/A'}, {'Title': 'LG G8X ThinQ LMG850UM9 128GB Black (Sprint T-Mobile AT&T) C GSM Unlocked', 'Seller': '8ten1944', 'Seller rating': '99.5%', 'Price': '$197.61', 'Shipping information': 'Free shipping', 'Return information': 'Free returns', 'Number of bids': 'N/A'}, {'Title': 'LG V50 ThinQ V500N V450PM V450VM Original Unlocked 6GB+128GB ROM 16MP Smartphone', 'Seller': 'valueorder', 'Seller rating': '95.4%', 'Price': '$155.00', 'Shipping information': 'Free shipping', 'Return information': 'Free returns', 'Number of bids': 'N/A'}, {'Title': 'Rooted LG G8 ThinQ Nethunter Pentest Hacker Phone Internal Monitor Mode H@cker', 'Seller': 'bar-5468', 'Seller rating': '95.6%', 'Price': '$250.00', 'Shipping information': 'Free shipping', 'Return information': 'Free returns', 'Number of bids': 'N/A'}, {'Title': 'LG G8X G850 128GB Black AT&T GSM Unlocked LCD Shadow Very Good', 'Seller': 'cellularstream', 'Seller rating': '98.4%', 'Price': '$134.94', 'Shipping information': 'Free shipping', 'Return information': 'Free returns', 'Number of bids': 'N/A'}, {'Title': 'USED - LG V30+ H930DS 128GB (FACTORY UNLOCKED) 6.0\" 4GB RAM Silver', 'Seller': 'never-msrp', 'Seller rating': '99.5%', 'Price': '$124.99', 'Shipping information': 'Free shipping', 'Return information': 'N/A', 'Number of bids': 'N/A'}, {'Title': 'LG Velvet LM-G900N 6.8\" OLED Display 4G/5G Factory Unlocked 8GB/128GB', 'Seller': 'with_us', 'Seller rating': '98.9%', 'Price': '$308.51', 'Shipping information': 'Free shipping', 'Return information': 'N/A', 'Number of bids': 'N/A'}, {'Title': 'LG Velvet 5G LM-G900 128GB Unlocked Android Smartphone | Excellent', 'Seller': 'miamiwireless', 'Seller rating': '98.7%', 'Price': '$188.99', 'Shipping information': 'Free shipping', 'Return information': 'N/A', 'Number of bids': 'N/A'}, {'Title': 'LG G8 ThinQ Unlocked Verizon T-Mobile AT&T LMG820 128GB 4G+| Excellent', 'Seller': 'miamiwireless', 'Seller rating': '98.7%', 'Price': '$139.99', 'Shipping information': 'Free shipping', 'Return information': 'N/A', 'Number of bids': 'N/A'}, {'Title': 'LG Velvet 5G LM-G900 128GB, AT&T, Aurora Silver *Grade C*', 'Seller': 'wilzeecorp', 'Seller rating': '98.4%', 'Price': '$155.95', 'Shipping information': 'Free shipping', 'Return information': 'N/A', 'Number of bids': 'N/A'}, {'Title': 'LG V60 ThinQ 5G 128GB Classy Blue UNLOCKED T-Mobile NEEDS WORK READ DESCRIPTION', 'Seller': 'senorwillburr', 'Seller rating': '93.3%', 'Price': '$249.00', 'Shipping information': '+$6.15 shipping', 'Return information': 'N/A', 'Number of bids': 'N/A'}, {'Title': 'LG alltel used phone', 'Seller': 'boughtnowcommerce', 'Seller rating': '99.9%', 'Price': '$50.90', 'Shipping information': '+$7.95 shipping', 'Return information': 'N/A', 'Number of bids': 'N/A'}, {'Title': 'LG V50 ThinQ V500N V450PM Original Unlocked 6GB RAM 128GB ROM 16MP Cellphone', 'Seller': 'bwop6402', 'Seller rating': '96.1%', 'Price': '$176.00', 'Shipping information': 'Free shipping', 'Return information': 'N/A', 'Number of bids': 'N/A'}, {'Title': '[DHL Shipping] LG Velvet2 Pro (LM-V700N) collection original box', 'Seller': 'piety11', 'Seller rating': '97.4%', 'Price': '$1,290.00', 'Shipping information': '+$25.00 shipping', 'Return information': 'N/A', 'Number of bids': 'N/A'}, {'Title': 'LG V40 ThinQ Original Unlocked V405UA V409N 6.4 Inches 64GB/128GB LTE Cellphone', 'Seller': 'bwop6402', 'Seller rating': '96.1%', 'Price': '$138.00 to $170.00', 'Shipping information': 'Free shipping', 'Return information': 'N/A', 'Number of bids': 'N/A'}, {'Title': 'LG Velvet 5G LM-G900 6GB/128GB 6.8 Inch Triple Camera T-Mobile 9/10 Grade', 'Seller': 'jcsmartwatchcollections', 'Seller rating': '100%', 'Price': '$199.95', 'Shipping information': '+$9.99 shipping', 'Return information': 'N/A', 'Number of bids': 'N/A'}, {'Title': 'LG V30 Original Unlocked 4GB RAM 64GB/128GB ROM 6.0 Inches 16.0MP LTE Cellphone', 'Seller': 'bwop6402', 'Seller rating': '96.1%', 'Price': '$120.00', 'Shipping information': 'Free shipping', 'Return information': 'N/A', 'Number of bids': 'N/A'}, {'Title': \"LG VELVET G9 Original Unlocked 6.8'' NFC G900N G900VM 6GB+128GB 16MP SmartPhone\", 'Seller': 'bwop6402', 'Seller rating': '96.1%', 'Price': '$198.00 to $200.00', 'Shipping information': 'Free shipping', 'Return information': 'N/A', 'Number of bids': 'N/A'}, {'Title': 'LG V40 ThinQ Original Unlocked V405UA V409N 6.4 Inches 64GB/128GB LTE Cellphone', 'Seller': 'pyxp5717', 'Seller rating': '94.6%', 'Price': '$140.00 to $172.00', 'Shipping information': 'Free shipping', 'Return information': 'N/A', 'Number of bids': 'N/A'}, {'Title': 'Android LG G8X ThinQ LM-G850UM / LMG850EMW 4G LTE 6.4\" 128GB 6GB RAM Phone', 'Seller': 'digital-home888', 'Seller rating': '93.2%', 'Price': '$166.28 to $179.72', 'Shipping information': 'Free shipping', 'Return information': 'N/A', 'Number of bids': 'N/A'}, {'Title': \"6.4'' LG V40 ThinQ 4G LTE Cell Phone 6GB RAM 64GB ROM 16MP SmartPhone Unlocked\", 'Seller': 'winwin2010', 'Seller rating': '100%', 'Price': '$145.00', 'Shipping information': 'Free shipping', 'Return information': 'N/A', 'Number of bids': 'N/A'}, {'Title': 'LG V50 ThinnQ 5G LM-V500V 6GB RAM (Unlocked) Smartphone - Black read desc.', 'Seller': 'anakinwalker', 'Seller rating': '100%', 'Price': '$1,000.00', 'Shipping information': 'Free shipping', 'Return information': 'N/A', 'Number of bids': 'N/A'}, {'Title': \"6.4'' LG V50 V500N V450PM ThinQ 5G LTE NFC Cell Phone 6GB+128GB SmartPhone\", 'Seller': 'winwin2010', 'Seller rating': '100%', 'Price': '$199.00', 'Shipping information': 'Free shipping', 'Return information': 'N/A', 'Number of bids': 'N/A'}, {'Title': \"6.8'' LG V60 5G ThinQ Cell Phone Android SamrtPhone 8GB RAM 128GB ROM Phone\", 'Seller': 'winwin2010', 'Seller rating': '100%', 'Price': '$225.00', 'Shipping information': 'Free shipping', 'Return information': 'N/A', 'Number of bids': 'N/A'}, {'Title': 'LG V50 ThinQ 5G LM-V500N (Korea) LM-V450PM (Sprint) Android 16MPCell Phone 6.4\"', 'Seller': 'tech-link-all', 'Seller rating': '100%', 'Price': '$145.94', 'Shipping information': 'Free shipping', 'Return information': 'N/A', 'Number of bids': 'N/A'}, {'Title': 'LG V50 ThinQ V500N V450PM Original Unlocked 6GB RAM 128GB ROM 16MP Cellphone', 'Seller': 'pyxp5717', 'Seller rating': '94.6%', 'Price': '$178.00', 'Shipping information': 'Free shipping', 'Return information': 'N/A', 'Number of bids': 'N/A'}, {'Title': \"LG VELVET G9 Original Unlocked 6.8'' NFC G900N G900VM 6GB+128GB 16MP SmartPhone\", 'Seller': 'pyxp5717', 'Seller rating': '94.6%', 'Price': '$200.00 to $202.00', 'Shipping information': 'Free shipping', 'Return information': 'N/A', 'Number of bids': 'N/A'}, {'Title': 'LG G8 ThinQ 4G LTE Cell Phone Android 10.0 SmartPhone 6GB+128GB NFC Unlocked', 'Seller': 'winwin2010', 'Seller rating': '100%', 'Price': '$154.00', 'Shipping information': 'Free shipping', 'Return information': 'N/A', 'Number of bids': 'N/A'}, {'Title': \"6.8'' LG VELVET G9 SmartPhone Screen Cell Phone Google Play Unlocked\", 'Seller': 'winwin2010', 'Seller rating': '100%', 'Price': '$205.00', 'Shipping information': 'Free shipping', 'Return information': 'N/A', 'Number of bids': 'N/A'}, {'Title': 'LG V60 ThinQ 5G Original 128GB ROM 64MP V600AM V600TM V600VM Unlocked Smartphone', 'Seller': 'pyxp5717', 'Seller rating': '94.6%', 'Price': '$232.00', 'Shipping information': 'Free shipping', 'Return information': 'N/A', 'Number of bids': 'N/A'}, {'Title': 'LG Velvet 5G - Unlocked', 'Seller': 'williamr8810', 'Seller rating': '0%', 'Price': '$196.48', 'Shipping information': '+$22.96 shipping', 'Return information': 'N/A', 'Number of bids': 'N/A'}, {'Title': 'LG V50 THINQ 5G V500N 6gb 128gb Fingerprint Android 11 Dual Screen', 'Seller': 'salam-mobile', 'Seller rating': '97.2%', 'Price': '$240.00', 'Shipping information': '+$22.00 shipping', 'Return information': 'N/A', 'Number of bids': 'N/A'}, {'Title': 'USED - LG V30+ H930DS 128GB 4GB RAM (FACTORY UNLOCKED) 6.0\" 16MP - Violet', 'Seller': 'never-msrp', 'Seller rating': '99.5%', 'Price': '$134.99', 'Shipping information': 'Free shipping', 'Return information': 'N/A', 'Number of bids': 'N/A'}, {'Title': 'USED - LG V30+ H930DS 128GB (FACTORY UNLOCKED) 4GB RAM - 6.0\" 16MP - Black', 'Seller': 'never-msrp', 'Seller rating': '99.5%', 'Price': '$134.99', 'Shipping information': 'Free shipping', 'Return information': 'N/A', 'Number of bids': 'N/A'}, {'Title': 'LG G8X ThinQ LM-G850UM / LMG850EMW Android 4G LTE 6.4\" 128GB 6GB RAM CellPhone', 'Seller': 'tech-link-all', 'Seller rating': '100%', 'Price': '$167.81 to $181.95', 'Shipping information': 'Free shipping', 'Return information': 'N/A', 'Number of bids': 'N/A'}, {'Title': 'LG V30 Original Unlocked 4GB RAM 64GB/128GB ROM 6.0 Inches 16.0MP LTE Cellphone', 'Seller': 'pyxp5717', 'Seller rating': '94.6%', 'Price': '$122.00', 'Shipping information': 'Free shipping', 'Return information': 'N/A', 'Number of bids': 'N/A'}, {'Title': 'LG G8X ThinQ LM-G850UM / LMG850EMW 4G LTE 6.4\" Android 128GB 6GB RAM Phone', 'Seller': 'phone360', 'Seller rating': '93.3%', 'Price': '$169.71 to $183.58', 'Shipping information': 'Free shipping', 'Return information': 'N/A', 'Number of bids': 'N/A'}, {'Title': 'LG G8X ThinQ LM-G850UM / LMG850EMW Android 4G LTE 128GB 6GB RAM 6.4\" CellPhone', 'Seller': 'utechmobile', 'Seller rating': '96.2%', 'Price': '$170.37 to $184.63', 'Shipping information': 'Free shipping', 'Return information': 'N/A', 'Number of bids': 'N/A'}, {'Title': '4G LTE LG G8X ThinQ LM-G850UM / LMG850EMW Android 6.4\" 128GB 6GB RAM Phone', 'Seller': 'lt-trading', 'Seller rating': '93.5%', 'Price': '$167.31 to $181.41', 'Shipping information': 'Free shipping', 'Return information': 'N/A', 'Number of bids': 'N/A'}, {'Title': '4G LTE LG G8X ThinQ LM-G850UM / LMG850EMW Android 128GB 6GB RAM 6.4\" Phone', 'Seller': 'findsuperdeal', 'Seller rating': '92.9%', 'Price': '$169.72 to $184.01', 'Shipping information': 'Free shipping', 'Return information': 'N/A', 'Number of bids': 'N/A'}, {'Title': 'Android LG G8X ThinQ LM-G850UM / LMG850EMW 6.4\" 128GB 6GB RAM 4G LTE Phone', 'Seller': 'wireless-age', 'Seller rating': '90%', 'Price': '$167.01 to $181.11', 'Shipping information': 'Free shipping', 'Return information': 'N/A', 'Number of bids': 'N/A'}, {'Title': 'Android LG V50 ThinQ 5G LM-V500N (Korea) LM-V450PM (Sprint) 16MP Cell Phone 6.4\"', 'Seller': 'ubest-mobile-phone', 'Seller rating': '83.3%', 'Price': '$146.12', 'Shipping information': 'Free shipping', 'Return information': 'N/A', 'Number of bids': 'N/A'}, {'Title': 'LG G8X ThinQ LM-G850UM / LMG850EMW Android 4G LTE 6.4\" 128GB 6GB RAM Phone', 'Seller': 'top4easy', 'Seller rating': '98%', 'Price': '$166.66 to $180.99', 'Shipping information': 'Free shipping', 'Return information': 'N/A', 'Number of bids': 'N/A'}, {'Title': 'LG G8X ThinQ LM-G850UM / LMG850EMW Android 4G LTE 128GB 6GB RAM 6.4\" Phone', 'Seller': 'cell-on-sale', 'Seller rating': '98%', 'Price': '$166.72 to $180.90', 'Shipping information': 'Free shipping', 'Return information': 'N/A', 'Number of bids': 'N/A'}, {'Title': 'LG G8X ThinQ LM-G850UM / LMG850EMW Android 6.4\" 128GB 6GB RAM 4G LTE Phone', 'Seller': 'ubest-mobile-phone', 'Seller rating': '83.3%', 'Price': '$167.82 to $182.04', 'Shipping information': 'Free shipping', 'Return information': 'N/A', 'Number of bids': 'N/A'}, {'Title': 'Android 6.4\" LG G8X ThinQ LM-G850UM / LMG850EMW 4G LTE 128GB 6GB RAM Phone', 'Seller': '8smartbiz', 'Seller rating': '100%', 'Price': '$169.08 to $183.33', 'Shipping information': 'Free shipping', 'Return information': 'N/A', 'Number of bids': 'N/A'}, {'Title': 'LG G8X ThinQ LM-G850UM / LMG850EMW 4G LTE Android 6.4\" 128GB 6GB RAM Phone', 'Seller': 'utech365', 'Seller rating': '93.3%', 'Price': '$184.38', 'Shipping information': 'Free shipping', 'Return information': 'N/A', 'Number of bids': 'N/A'}]\n"
     ]
    }
   ],
   "source": [
    "driver = webdriver.Chrome(executable_path=chromedriver_path) # Launch the Chrome browser\n",
    "time.sleep(5)\n",
    "\n",
    "# Open the saved HTML file\n",
    "driver.get(file_url)\n",
    "time.sleep(5)\n",
    "\n",
    "title_elements = driver.find_elements(By.CLASS_NAME, \"s-item__title\")\n",
    "seller_elements = driver.find_elements(By.CLASS_NAME, \"s-item__seller-info-text\")\n",
    "price_elements = driver.find_elements(By.CLASS_NAME, \"s-item__price\")\n",
    "shipping_elements = driver.find_elements(By.CLASS_NAME, \"s-item__shipping\")\n",
    "return_elements = driver.find_elements(By.CLASS_NAME, \"s-item__free-returns\")\n",
    "bids_elements = driver.find_elements(By.CLASS_NAME, \"s-item__bids\")\n",
    "\n",
    "# Initiate an empty list to save the data\n",
    "ebay_lg_used_phones = []\n",
    "\n",
    "for i in range(len(seller_elements)):\n",
    "    title = title_elements[i+1].text if i+1 < len(title_elements) else \"N/A\"\n",
    "    seller = seller_elements[i].text.split(\" \")[0] if i < len(seller_elements) else \"N/A\"\n",
    "    seller_rating = seller_elements[i].text.split(\" \")[2] if i < len(seller_elements) else \"N/A\"\n",
    "    price = price_elements[i+1].text if i+1 < len(price_elements) else \"N/A\"\n",
    "    shipping = shipping_elements[i].text if i < len(shipping_elements) else \"N/A\"\n",
    "    return_info = return_elements[i].text if i < len(return_elements) else \"N/A\"\n",
    "    bids = bids_elements[i].text.split(\" \")[0] if i < len(bids_elements) else \"N/A\"\n",
    "\n",
    "    # Add the records to the list\n",
    "    ebay_lg_used_phones.append({\n",
    "        \"Title\": title,\n",
    "        \"Seller\": seller,\n",
    "        \"Seller rating\": seller_rating,\n",
    "        \"Price\": price,\n",
    "        \"Shipping information\": shipping,\n",
    "        \"Return information\": return_info, \n",
    "        \"Number of bids\": bids\n",
    "    })\n",
    "\n",
    "\n",
    "print(ebay_lg_used_phones) # Print the results\n",
    "\n",
    "# Return information and the number of bids are not available for all items but don't know how to retrieve these informations specifically for certain items having such information.\n",
    "\n",
    "driver.quit() # Close the browser"
   ]
  }
 ],
 "metadata": {
  "kernelspec": {
   "display_name": "base",
   "language": "python",
   "name": "python3"
  },
  "language_info": {
   "codemirror_mode": {
    "name": "ipython",
    "version": 3
   },
   "file_extension": ".py",
   "mimetype": "text/x-python",
   "name": "python",
   "nbconvert_exporter": "python",
   "pygments_lexer": "ipython3",
   "version": "3.10.9"
  }
 },
 "nbformat": 4,
 "nbformat_minor": 2
}
