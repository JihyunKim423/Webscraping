{
 "cells": [
  {
   "cell_type": "markdown",
   "metadata": {},
   "source": [
    "#### BAX 422 Data Design & Representation - Assignment 2 \n",
    "#### Section 1 Ji Hyun Kim\n",
    "\n",
    "##### Group 14: Nishita (Nishi) Parmar, Xinyu Tu, Ji Hyun (Jihyun) Kim"
   ]
  },
  {
   "cell_type": "markdown",
   "metadata": {},
   "source": [
    "##### 1. modify the code we created in class to select and print to screen the content of the blue \"Your Community\" section on https://gsm.ucdavis.edu/master-science-business-analytics-msba  Use RegEx to make the text output look pretty."
   ]
  },
  {
   "cell_type": "code",
   "execution_count": 7,
   "metadata": {},
   "outputs": [],
   "source": [
    "# Import necessary packages\n",
    "from bs4 import BeautifulSoup\n",
    "import requests"
   ]
  },
  {
   "cell_type": "code",
   "execution_count": 140,
   "metadata": {},
   "outputs": [
    {
     "name": "stdout",
     "output_type": "stream",
     "text": [
      "Your Community\n",
      "94\n",
      "2\n",
      "24\n",
      "166\n",
      "3.5\n"
     ]
    }
   ],
   "source": [
    "# Extract h2\n",
    "url = \"https://gsm.ucdavis.edu/master-science-business-analytics-msba\"\n",
    "page = requests.get(url)\n",
    "soup = BeautifulSoup(page.text, 'lxml')\n",
    "\n",
    "selectors = ['div.py-3.solid-blue-bkg.text-white > div.container > div.row > div.col-md-12 > h2',\n",
    "             'div.py-3.solid-blue-bkg.text-white > div.container > div.row > div.col-md-4 > h2',\n",
    "             'div.py-3.solid-blue-bkg.text-white > div.container > div.row > div.col-md-6 > h2']\n",
    "\n",
    "for selector in selectors:\n",
    "    h2 = soup.select(selector)\n",
    "    for e in h2:\n",
    "        print(e.text)"
   ]
  },
  {
   "cell_type": "code",
   "execution_count": 141,
   "metadata": {},
   "outputs": [
    {
     "name": "stdout",
     "output_type": "stream",
     "text": [
      "Class of 2023-24\n",
      "Number of Incoming Students\n",
      "Average Years of Work Experience\n",
      "Average Age\n",
      "Average GRE Quant Score\n",
      "Average Undergraduate GPA\n"
     ]
    }
   ],
   "source": [
    "# Extract p\n",
    "url = \"https://gsm.ucdavis.edu/master-science-business-analytics-msba\"\n",
    "page = requests.get(url)\n",
    "soup = BeautifulSoup(page.text, 'lxml')\n",
    "\n",
    "selectors = ['div.py-3.solid-blue-bkg.text-white > div.container > div.row > div.col-md-12 > p',\n",
    "             'div.py-3.solid-blue-bkg.text-white > div.container > div.row > div.col-md-4 > p',\n",
    "             'div.py-3.solid-blue-bkg.text-white > div.container > div.row > div.col-md-6 > p']\n",
    "\n",
    "for selector in selectors:\n",
    "    p = soup.select(selector)\n",
    "    for e1 in p:\n",
    "        print(e1.text)"
   ]
  },
  {
   "cell_type": "code",
   "execution_count": 142,
   "metadata": {},
   "outputs": [
    {
     "name": "stdout",
     "output_type": "stream",
     "text": [
      "Your Community\n",
      "Class of 2023-24\n",
      "\n",
      "94\n",
      "Number of Incoming Students\n",
      "\n",
      "2\n",
      "Average Years of Work Experience\n",
      "\n",
      "24\n",
      "Average Age\n",
      "\n",
      "166\n",
      "Average GRE Quant Score\n",
      "\n",
      "3.5\n",
      "Average Undergraduate GPA\n",
      "\n"
     ]
    }
   ],
   "source": [
    "# Final results: combine h2 and p \n",
    "def msba_scrap():\n",
    "    url = \"https://gsm.ucdavis.edu/master-science-business-analytics-msba\"\n",
    "    page = requests.get(url)\n",
    "    soup = BeautifulSoup(page.text, 'lxml')\n",
    "\n",
    "    selector_h2 = ['div.py-3.solid-blue-bkg.text-white > div.container > div.row > div.col-md-12 > h2',\n",
    "             'div.py-3.solid-blue-bkg.text-white > div.container > div.row > div.col-md-4 > h2',\n",
    "             'div.py-3.solid-blue-bkg.text-white > div.container > div.row > div.col-md-6 > h2']\n",
    "    selector_p = ['div.py-3.solid-blue-bkg.text-white > div.container > div.row > div.col-md-12 > p',\n",
    "             'div.py-3.solid-blue-bkg.text-white > div.container > div.row > div.col-md-4 > p',\n",
    "             'div.py-3.solid-blue-bkg.text-white > div.container > div.row > div.col-md-6 > p']\n",
    "\n",
    "    h2_list = [] # create empty list to add h2\n",
    "    p_list = [] # create empty list to add p\n",
    "\n",
    "    for selector in selector_h2:\n",
    "        h2_elements = soup.select(selector)\n",
    "        for h2 in h2_elements:\n",
    "            h2_list.append(h2.text) # add h2 values to the list\n",
    "\n",
    "    for selector in selector_p:\n",
    "        p_elements = soup.select(selector)\n",
    "        for p in p_elements:\n",
    "            p_list.append(p.text) # add p values to the list\n",
    "    \n",
    "    combined_list = [] # empty list to add combined values of h2 and p \n",
    "    for h2, p in zip(h2_list, p_list): # pairing two lists with zip function\n",
    "        h2_p = {'h2':h2, 'p':p}\n",
    "        combined_list.append(h2_p) # append paired values to the list \n",
    "\n",
    "    return combined_list\n",
    "    \n",
    "result = msba_scrap()\n",
    "for e in result:\n",
    "    print(f\"{e['h2']}\\n{e['p']}\\n\") # organize the text output using regular expressions\n"
   ]
  },
  {
   "cell_type": "markdown",
   "metadata": {},
   "source": [
    "##### 2. write code that web scrapes the Amazon page  https://www.amazon.com/dp/B07CT6DYFG  and prints its title and price to screen."
   ]
  },
  {
   "cell_type": "code",
   "execution_count": 207,
   "metadata": {},
   "outputs": [
    {
     "name": "stdout",
     "output_type": "stream",
     "text": [
      "         Katamco The Original Toilet Timer (Classic), As Seen on Shark Tank. Funny Gift for Men, Husband, Dad, Son, Birthday, Christmas, Stocking Stuffer.        \n"
     ]
    }
   ],
   "source": [
    "# Try extract title only\n",
    "url = \"https://www.amazon.com/dp/B07CT6DYFG\"\n",
    "page = requests.get(url)\n",
    "soup = BeautifulSoup(page.text, 'lxml')\n",
    "\n",
    "title = soup.select('div#titleSection.a-section.a-spacing-none>h1')\n",
    "\n",
    "for e1 in title:\n",
    "    print(e1.text)"
   ]
  },
  {
   "cell_type": "code",
   "execution_count": 208,
   "metadata": {},
   "outputs": [
    {
     "name": "stdout",
     "output_type": "stream",
     "text": [
      "$14.99\n"
     ]
    }
   ],
   "source": [
    "# Try extract price only\n",
    "url = \"https://www.amazon.com/dp/B07CT6DYFG\"\n",
    "page = requests.get(url)\n",
    "soup = BeautifulSoup(page.text, 'lxml')\n",
    "\n",
    "price = soup.find('span', {'class':'a-offscreen'}) # Use soup.find to find just one output(price) using the class name\n",
    "\n",
    "for e2 in price:\n",
    "    print(e2.text)"
   ]
  },
  {
   "cell_type": "code",
   "execution_count": 188,
   "metadata": {},
   "outputs": [
    {
     "name": "stdout",
     "output_type": "stream",
     "text": [
      "Title:          Katamco The Original Toilet Timer (Classic), As Seen on Shark Tank. Funny Gift for Men, Husband, Dad, Son, Birthday, Christmas, Stocking Stuffer.        \n",
      "Price: $14.99\n",
      "\n"
     ]
    }
   ],
   "source": [
    "url = \"https://www.amazon.com/dp/B07CT6DYFG\"\n",
    "page = requests.get(url)\n",
    "soup = BeautifulSoup(page.text, 'lxml')\n",
    "\n",
    "title = soup.select('div#titleSection.a-section.a-spacing-none>h1')\n",
    "price = soup.find('span', {'class':'a-offscreen'}) # Use soup.find to find just one output(price) using the class name\n",
    "\n",
    "title_list = []\n",
    "price_list = []\n",
    "\n",
    "for e1 in title:\n",
    "    title_list.append(e1.text)\n",
    "for e2 in price:\n",
    "    price_list.append(e2.text)\n",
    "\n",
    "title_price = []\n",
    "\n",
    "for title, price in zip(title_list,price_list):\n",
    "    tp = {'Title':title, 'Price':price}\n",
    "    title_price.append(tp)\n",
    "\n",
    "for e in title_price:\n",
    "    print(f\"Title: {e['Title']}\\nPrice: {e['Price']}\\n\")\n"
   ]
  },
  {
   "cell_type": "markdown",
   "metadata": {},
   "source": [
    "##### 3. write code that loads the page  https://www.usnews.com/  and prints to screen the title of the current #1 top story (i.e., the title of the first title in \"Top Stories\")\n",
    "\n",
    "You will need to set the user agent in question (3).  I.e., your request line should now read  \"requests.get('https://www.usnews.com/', headers={'User-Agent': 'Mozilla/5.0'})\""
   ]
  },
  {
   "cell_type": "code",
   "execution_count": 210,
   "metadata": {},
   "outputs": [
    {
     "name": "stdout",
     "output_type": "stream",
     "text": [
      "Haley Questions Trump's Mental Fitness After Gaffe\n"
     ]
    }
   ],
   "source": [
    "url = \"https://www.usnews.com/\"\n",
    "page = requests.get(url, headers={'User-Agent': 'Mozilla/5.0'}) # set the user agent\n",
    "soup = BeautifulSoup(page.text, 'lxml')\n",
    "\n",
    "# Using select_one to grab the first element among the titles of top story\n",
    "top_title = soup.select_one('div.Box-w0dun1-0.ContentBox__Container-sc-1egb8dt-0.iZCosX.lmOexQ.ArmRestTopStories__CollapseBorderContentBox-s0vo7p-2.fTDCpH > h3.Heading-sc-1w5xk2o-0.ContentBox__StoryHeading-sc-1egb8dt-3.MRvpF.fqJuKa.story-headline > a')\n",
    "\n",
    "# Print the title\n",
    "print(top_title.text)"
   ]
  }
 ],
 "metadata": {
  "kernelspec": {
   "display_name": "base",
   "language": "python",
   "name": "python3"
  },
  "language_info": {
   "codemirror_mode": {
    "name": "ipython",
    "version": 3
   },
   "file_extension": ".py",
   "mimetype": "text/x-python",
   "name": "python",
   "nbconvert_exporter": "python",
   "pygments_lexer": "ipython3",
   "version": "3.10.9"
  }
 },
 "nbformat": 4,
 "nbformat_minor": 2
}
